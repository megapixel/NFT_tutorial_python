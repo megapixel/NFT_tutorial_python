{
  "nbformat": 4,
  "nbformat_minor": 0,
  "metadata": {
    "colab": {
      "name": "How to create NFT arts with Python.ipynb",
      "provenance": [],
      "mount_file_id": "1X7txLZtVxRwDhABD29nCS_2LiVBOig-K",
      "authorship_tag": "ABX9TyPMcFkgCIqqCmday+pxzRaJ",
      "include_colab_link": true
    },
    "kernelspec": {
      "name": "python3",
      "display_name": "Python 3"
    },
    "language_info": {
      "name": "python"
    }
  },
  "cells": [
    {
      "cell_type": "markdown",
      "metadata": {
        "id": "view-in-github",
        "colab_type": "text"
      },
      "source": [
        "<a href=\"https://colab.research.google.com/github/jackty9/NFT_tutorial_python/blob/main/How_to_create_NFT_arts_with%C2%A0Python.ipynb\" target=\"_parent\"><img src=\"https://colab.research.google.com/assets/colab-badge.svg\" alt=\"Open In Colab\"/></a>"
      ]
    },
    {
      "cell_type": "markdown",
      "source": [
        "# How to create NFT arts with Python\n",
        "\n",
        "adapted from [Jack Tan](https://github.com/jackty9/NFT_tutorial_python)\n",
        "\n",
        "*Last updated: April 2nd, 2022*\n",
        "\n",
        "This notebook will let you create generative NFT images based on simple shapes found on [this Github repo](https://github.com/jackty9/NFT_tutorial_python/tree/main/nft_raw_images).\n",
        "\n",
        "A sample of generated NFT images with this notebook:\n",
        "#### <img src=\"https://drive.google.com/uc?export=view&id=1cKEkmPPhO7tgyG-PeK9G_CJG-5QCSbjA\" width=\"600\">\n",
        "\n",
        "\n",
        "To use this notebook just follow along with the instructions and run each cell as directed.\n",
        "\n",
        "---\n",
        "\n",
        "This Notebook is inspired based on [nft-image-generator](https://github.com/benyaminahmed/nft-image-generator) by Benyamin Ahmed."
      ],
      "metadata": {
        "id": "JpdLlCbu4pfH"
      }
    },
    {
      "cell_type": "markdown",
      "source": [
        "# Main Code"
      ],
      "metadata": {
        "id": "CsLP18wTvinw"
      }
    },
    {
      "cell_type": "code",
      "execution_count": null,
      "metadata": {
        "id": "EH0xJ-yrRyiw",
        "colab": {
          "base_uri": "https://localhost:8080/"
        },
        "outputId": "4c8eb934-cac0-4641-95f8-9f364e904cf4"
      },
      "outputs": [
        {
          "output_type": "stream",
          "name": "stdout",
          "text": [
            "rm: cannot remove '/content/NFT_tutorial_python': No such file or directory\n",
            "Cloning into 'NFT_tutorial_python'...\n",
            "remote: Enumerating objects: 142, done.\u001b[K\n",
            "remote: Counting objects: 100% (142/142), done.\u001b[K\n",
            "remote: Compressing objects: 100% (111/111), done.\u001b[K\n",
            "remote: Total 142 (delta 38), reused 128 (delta 29), pack-reused 0\u001b[K\n",
            "Receiving objects: 100% (142/142), 2.40 MiB | 7.98 MiB/s, done.\n",
            "Resolving deltas: 100% (38/38), done.\n"
          ]
        }
      ],
      "source": [
        "## Main Snippet 1 \n",
        "\n",
        "# Import necessary libraries \n",
        "from PIL import Image \n",
        "import random\n",
        "import json\n",
        "import os\n",
        "\n",
        "# Connect to Github repo to load raw images and metadata file\n",
        "!rm -r /content/NFT_tutorial_python\n",
        "!git clone https://github.com/megapixel/NFT_tutorial_python.git"
      ]
    },
    {
      "cell_type": "code",
      "source": [
        "## Main Snippet 2\n",
        "\n",
        "# Each image is made up a series of traits\n",
        "# The weitages for each trait distribute the rarity and add up to 100%\n",
        "\n",
        "background = [\"Blue\", \"Green\", \"Red\", \"Yellow\"] \n",
        "background_weights = [40, 30, 20, 10]\n",
        "\n",
        "rice = [\"White\", \"Blue\", \"Yellow\"] \n",
        "rice_weights = [50, 35, 15]\n",
        "\n",
        "topping = [\"Hiromi\", \"Roe\", \"Unagi\", \"Salmon\"] \n",
        "topping_weights = [40, 30, 20, 10]\n",
        "\n",
        "face = [\"DarkSad\", \"DarkHappy\", \"PinkHappy\", \"PinkHappy\"] \n",
        "face_weights = [40, 30, 15, 10, 5]\n",
        "\n",
        "# Dictionary variable for each trait. \n",
        "# Each trait corresponds to its file name (from raw images from Github)\n",
        "\n",
        "background_files = {\n",
        "    \"Blue\": \"background-blue\",\n",
        "    \"Green\": \"background-green\",\n",
        "    \"Red\": \"background-red\",\n",
        "    \"Yellow\": \"background-yellow\",\n",
        "}\n",
        "\n",
        "rice_files = {\n",
        "    \"White\": \"rice-white\",\n",
        "    \"Blue\": \"rice-blue\",\n",
        "    \"Yellow\": \"rice-yellow\",\n",
        "}\n",
        "topping_files = {\n",
        "    \"Hiromi\": \"topping-hiromi\",\n",
        "    \"Roe\": \"topping-roe\",\n",
        "    \"Unagi\": \"topping-unagi\",\n",
        "    \"Salmon\": \"topping-salmon\",\n",
        "}\n",
        "\n",
        "face_files = {\n",
        "    \"DarkSad\": \"face-darksad\",\n",
        "    \"DarkHappy\": \"face-darkhappy\",\n",
        "    \"PinkSad\": \"face-pinksad\",\n",
        "    \"PinkHappy\": \"face-pinkhappy\",\n",
        "          \n",
        "}"
      ],
      "metadata": {
        "id": "Jz_hWVm9dniu"
      },
      "execution_count": null,
      "outputs": []
    },
    {
      "cell_type": "code",
      "source": [
        "## Main Snippet 3\n",
        "\n",
        "# Generate Traits\n",
        "# Number of random unique images to be generated\n",
        "TOTAL_IMAGES = 50\n",
        "\n",
        "all_images = [] \n",
        "\n",
        "# A recursive function to generate unique image combinations\n",
        "def create_new_image():\n",
        "    \n",
        "    new_image = {} #\n",
        "\n",
        "    # For each trait category, select a random trait based on the weightings \n",
        "    new_image [\"Background\"] = random.choices(background, background_weights)[0]\n",
        "    new_image [\"Rice\"] = random.choices(rice, rice_weights)[0]\n",
        "    new_image [\"Toppings\"] = random.choices(topping, topping_weights)[0]\n",
        "    new_image [\"Face\"] = random.choices(face, face_weights)[0]\n",
        "    \n",
        "    if new_image in all_images:\n",
        "        return create_new_image()\n",
        "    else:\n",
        "        return new_image\n",
        "    \n",
        "    \n",
        "# Generate the unique combinations based on trait weightings\n",
        "for i in range(TOTAL_IMAGES): \n",
        "    \n",
        "    new_trait_image = create_new_image()\n",
        "    \n",
        "    all_images.append(new_trait_image)\n",
        "\n",
        "# Add token Id to each image\n",
        "i = 0\n",
        "for item in all_images:\n",
        "    item[\"tokenId\"] = i\n",
        "    i = i + 1    \n"
      ],
      "metadata": {
        "id": "UKz6egaYdwLq"
      },
      "execution_count": null,
      "outputs": []
    },
    {
      "cell_type": "code",
      "source": [
        "##OPTIONAL \n",
        "\n",
        "# Returns true if all images are unique\n",
        "def all_images_unique(all_images):\n",
        "    seen = list()\n",
        "    return not any(i in seen or seen.append(i) for i in all_images)\n",
        "\n",
        "print(\"Are all images unique?\", all_images_unique(all_images))"
      ],
      "metadata": {
        "colab": {
          "base_uri": "https://localhost:8080/"
        },
        "id": "uxNx3Z7ad-rE",
        "outputId": "2fc62cd4-d53e-47f8-d5aa-bbd88575a51f"
      },
      "execution_count": null,
      "outputs": [
        {
          "output_type": "stream",
          "name": "stdout",
          "text": [
            "Are all images unique? True\n"
          ]
        }
      ]
    },
    {
      "cell_type": "code",
      "source": [
        "##OPTIONAL \n",
        "\n",
        "#print out the metadata of all generated images\n",
        "print(*all_images, sep = \"\\n\")"
      ],
      "metadata": {
        "colab": {
          "base_uri": "https://localhost:8080/"
        },
        "id": "N7co4NfneFOj",
        "outputId": "8a316783-5e74-4a14-fb09-02a40d784c80"
      },
      "execution_count": null,
      "outputs": [
        {
          "output_type": "stream",
          "name": "stdout",
          "text": [
            "{'Background': 'Silver', 'Triangle': 'Orange', 'Circle': 'Green', 'Square': 'Red', 'tokenId': 0}\n",
            "{'Background': 'Silver', 'Triangle': 'Orange', 'Circle': 'Yellow', 'Square': 'Yellow', 'tokenId': 1}\n",
            "{'Background': 'Silver', 'Triangle': 'Red', 'Circle': 'Yellow', 'Square': 'Green', 'tokenId': 2}\n",
            "{'Background': 'Silver', 'Triangle': 'Orange', 'Circle': 'Orange', 'Square': 'Orange', 'tokenId': 3}\n",
            "{'Background': 'Cantaloupe', 'Triangle': 'Yellow', 'Circle': 'Orange', 'Square': 'Yellow', 'tokenId': 4}\n",
            "{'Background': 'Silver', 'Triangle': 'Red', 'Circle': 'Red', 'Square': 'Yellow', 'tokenId': 5}\n",
            "{'Background': 'Cantaloupe', 'Triangle': 'Yellow', 'Circle': 'Red', 'Square': 'Orange', 'tokenId': 6}\n",
            "{'Background': 'Mocha', 'Triangle': 'Red', 'Circle': 'Yellow', 'Square': 'Orange', 'tokenId': 7}\n",
            "{'Background': 'Silver', 'Triangle': 'Red', 'Circle': 'Red', 'Square': 'Orange', 'tokenId': 8}\n",
            "{'Background': 'Salmon', 'Triangle': 'Red', 'Circle': 'Orange', 'Square': 'Orange', 'tokenId': 9}\n",
            "{'Background': 'Cantaloupe', 'Triangle': 'Orange', 'Circle': 'Red', 'Square': 'Orange', 'tokenId': 10}\n",
            "{'Background': 'Mocha', 'Triangle': 'Yellow', 'Circle': 'Red', 'Square': 'Orange', 'tokenId': 11}\n",
            "{'Background': 'Mocha', 'Triangle': 'Red', 'Circle': 'Orange', 'Square': 'Orange', 'tokenId': 12}\n",
            "{'Background': 'Salmon', 'Triangle': 'Orange', 'Circle': 'Yellow', 'Square': 'Yellow', 'tokenId': 13}\n",
            "{'Background': 'Silver', 'Triangle': 'Orange', 'Circle': 'Orange', 'Square': 'Green', 'tokenId': 14}\n",
            "{'Background': 'Cantaloupe', 'Triangle': 'Yellow', 'Circle': 'Yellow', 'Square': 'Yellow', 'tokenId': 15}\n",
            "{'Background': 'Silver', 'Triangle': 'Yellow', 'Circle': 'Orange', 'Square': 'Red', 'tokenId': 16}\n",
            "{'Background': 'Mocha', 'Triangle': 'Green', 'Circle': 'Red', 'Square': 'Red', 'tokenId': 17}\n",
            "{'Background': 'Salmon', 'Triangle': 'Yellow', 'Circle': 'Orange', 'Square': 'Orange', 'tokenId': 18}\n",
            "{'Background': 'Silver', 'Triangle': 'Orange', 'Circle': 'Red', 'Square': 'Red', 'tokenId': 19}\n",
            "{'Background': 'Mocha', 'Triangle': 'Red', 'Circle': 'Orange', 'Square': 'Red', 'tokenId': 20}\n",
            "{'Background': 'Salmon', 'Triangle': 'Red', 'Circle': 'Blue', 'Square': 'Orange', 'tokenId': 21}\n",
            "{'Background': 'Salmon', 'Triangle': 'Yellow', 'Circle': 'Red', 'Square': 'Red', 'tokenId': 22}\n",
            "{'Background': 'Salmon', 'Triangle': 'Red', 'Circle': 'Yellow', 'Square': 'Red', 'tokenId': 23}\n",
            "{'Background': 'Salmon', 'Triangle': 'Yellow', 'Circle': 'Orange', 'Square': 'Red', 'tokenId': 24}\n",
            "{'Background': 'Cantaloupe', 'Triangle': 'Red', 'Circle': 'Green', 'Square': 'Red', 'tokenId': 25}\n",
            "{'Background': 'Silver', 'Triangle': 'Green', 'Circle': 'Red', 'Square': 'Red', 'tokenId': 26}\n",
            "{'Background': 'Silver', 'Triangle': 'Orange', 'Circle': 'Yellow', 'Square': 'Green', 'tokenId': 27}\n",
            "{'Background': 'Silver', 'Triangle': 'Red', 'Circle': 'Yellow', 'Square': 'Orange', 'tokenId': 28}\n",
            "{'Background': 'Salmon', 'Triangle': 'Red', 'Circle': 'Yellow', 'Square': 'Orange', 'tokenId': 29}\n",
            "{'Background': 'Silver', 'Triangle': 'Red', 'Circle': 'Orange', 'Square': 'Green', 'tokenId': 30}\n",
            "{'Background': 'Silver', 'Triangle': 'Orange', 'Circle': 'Red', 'Square': 'Orange', 'tokenId': 31}\n",
            "{'Background': 'Salmon', 'Triangle': 'Red', 'Circle': 'Red', 'Square': 'Yellow', 'tokenId': 32}\n",
            "{'Background': 'Silver', 'Triangle': 'Red', 'Circle': 'Yellow', 'Square': 'Red', 'tokenId': 33}\n",
            "{'Background': 'Silver', 'Triangle': 'Blue', 'Circle': 'Red', 'Square': 'Red', 'tokenId': 34}\n",
            "{'Background': 'Mocha', 'Triangle': 'Green', 'Circle': 'Orange', 'Square': 'Red', 'tokenId': 35}\n",
            "{'Background': 'Salmon', 'Triangle': 'Red', 'Circle': 'Red', 'Square': 'Blue', 'tokenId': 36}\n",
            "{'Background': 'Teal', 'Triangle': 'Orange', 'Circle': 'Red', 'Square': 'Red', 'tokenId': 37}\n",
            "{'Background': 'Mocha', 'Triangle': 'Yellow', 'Circle': 'Orange', 'Square': 'Yellow', 'tokenId': 38}\n",
            "{'Background': 'Silver', 'Triangle': 'Red', 'Circle': 'Red', 'Square': 'Red', 'tokenId': 39}\n",
            "{'Background': 'Salmon', 'Triangle': 'Red', 'Circle': 'Orange', 'Square': 'Yellow', 'tokenId': 40}\n",
            "{'Background': 'Salmon', 'Triangle': 'Orange', 'Circle': 'Green', 'Square': 'Red', 'tokenId': 41}\n",
            "{'Background': 'Cantaloupe', 'Triangle': 'Yellow', 'Circle': 'Green', 'Square': 'Blue', 'tokenId': 42}\n",
            "{'Background': 'Silver', 'Triangle': 'Green', 'Circle': 'Yellow', 'Square': 'Orange', 'tokenId': 43}\n",
            "{'Background': 'Salmon', 'Triangle': 'Yellow', 'Circle': 'Red', 'Square': 'Blue', 'tokenId': 44}\n",
            "{'Background': 'Silver', 'Triangle': 'Green', 'Circle': 'Red', 'Square': 'Orange', 'tokenId': 45}\n",
            "{'Background': 'Silver', 'Triangle': 'Yellow', 'Circle': 'Red', 'Square': 'Red', 'tokenId': 46}\n",
            "{'Background': 'Silver', 'Triangle': 'Yellow', 'Circle': 'Red', 'Square': 'Orange', 'tokenId': 47}\n",
            "{'Background': 'Silver', 'Triangle': 'Green', 'Circle': 'Orange', 'Square': 'Orange', 'tokenId': 48}\n",
            "{'Background': 'Salmon', 'Triangle': 'Yellow', 'Circle': 'Yellow', 'Square': 'Red', 'tokenId': 49}\n"
          ]
        }
      ]
    },
    {
      "cell_type": "code",
      "source": [
        "##OPTIONAL \n",
        "\n",
        "# Get Trait Counts\n",
        "background_count = {}\n",
        "for item in background:\n",
        "    background_count[item] = 0\n",
        "\n",
        "rice_count = {}\n",
        "for item in rice:\n",
        "    rice_count[item] = 0\n",
        "    \n",
        "topping_count = {}\n",
        "for item in topping:\n",
        "    topping_count[item] = 0\n",
        "\n",
        "face_count = {}\n",
        "for item in face:\n",
        "    face_count[item] = 0\n",
        "\n",
        "for image in all_images:\n",
        "    background_count[image[\"Background\"]] += 1\n",
        "    rice_count[image[\"Triangle\"]] += 1\n",
        "    topping_count[image[\"Circle\"]] += 1\n",
        "    face_count[image[\"Square\"]] += 1\n",
        "    \n",
        "print(background_count)\n",
        "print(rice_count)\n",
        "print(topping_count)\n",
        "print(face_count)"
      ],
      "metadata": {
        "colab": {
          "base_uri": "https://localhost:8080/"
        },
        "id": "5bp0DMWUujKx",
        "outputId": "dcacf32e-2a5f-4241-c362-b1254309c497"
      },
      "execution_count": null,
      "outputs": [
        {
          "output_type": "stream",
          "name": "stdout",
          "text": [
            "{'Silver': 22, 'Salmon': 14, 'Cantaloupe': 6, 'Mocha': 7, 'Teal': 1}\n",
            "{'Red': 18, 'Orange': 11, 'Yellow': 14, 'Green': 6, 'Blue': 1}\n",
            "{'Red': 19, 'Orange': 14, 'Yellow': 12, 'Green': 4, 'Blue': 1}\n",
            "{'Red': 18, 'Orange': 17, 'Yellow': 8, 'Green': 4, 'Blue': 3}\n"
          ]
        }
      ]
    },
    {
      "cell_type": "code",
      "source": [
        "##OPTIONAL\n",
        "\n",
        "# Generate Metadata for all Traits \n",
        "with open('metadata.json', 'w') as outfile:\n",
        "    json.dump(all_images, outfile, indent=4)"
      ],
      "metadata": {
        "id": "z2PiVVFjum1n"
      },
      "execution_count": null,
      "outputs": []
    },
    {
      "cell_type": "code",
      "source": [
        "## Main Snippet 4\n",
        "\n",
        "# Create a directory for output images \n",
        "os.mkdir(\"/content/images/\") \n",
        "\n",
        "# Generate Images    \n",
        "for item in all_images:\n",
        "\n",
        "    im1 = Image.open(f'/content/NFT_tutorial_python/nft_raw_images/backgrounds/{background_files[item[\"Background\"]]}.png').convert('RGBA')\n",
        "    im2 = Image.open(f'/content/NFT_tutorial_python/nft_raw_images/rice/{triangle_files[item[\"Triangle\"]]}.png').convert('RGBA')\n",
        "    im3 = Image.open(f'/content/NFT_tutorial_python/nft_raw_images/topping/{circle_files[item[\"Circle\"]]}.png').convert('RGBA')\n",
        "    im4 = Image.open(f'/content/NFT_tutorial_python/nft_raw_images/face/{square_files[item[\"Square\"]]}.png').convert('RGBA')\n",
        "\n",
        "    #Create each composite\n",
        "    com1 = Image.alpha_composite(im1, im2)\n",
        "    com2 = Image.alpha_composite(com1, im3)\n",
        "    com3 = Image.alpha_composite(com2, im4)\n",
        "\n",
        "    #Convert to RGB\n",
        "    rgb_im = com3.convert('RGB')\n",
        "    file_name = str(item[\"tokenId\"]) + \".png\"\n",
        "    rgb_im.save(\"/content/images/\" + file_name)\n",
        "    "
      ],
      "metadata": {
        "id": "5tLYC_d9vCz5"
      },
      "execution_count": null,
      "outputs": []
    },
    {
      "cell_type": "code",
      "source": [
        "##OPTIONAL \n",
        "\n",
        "#To download generated NFT arts locally \n",
        "from google.colab import files\n",
        "!zip -r /content/nft_images.zip /content/images/\n",
        "files.download(\"/content/nft_images.zip\")"
      ],
      "metadata": {
        "colab": {
          "base_uri": "https://localhost:8080/",
          "height": 902
        },
        "id": "NLa9pkT3CSMG",
        "outputId": "953d0d0f-c194-453f-c1fd-d50223050c05"
      },
      "execution_count": null,
      "outputs": [
        {
          "output_type": "stream",
          "name": "stdout",
          "text": [
            "  adding: content/images/ (stored 0%)\n",
            "  adding: content/images/34.png (deflated 23%)\n",
            "  adding: content/images/22.png (deflated 23%)\n",
            "  adding: content/images/35.png (deflated 19%)\n",
            "  adding: content/images/23.png (deflated 20%)\n",
            "  adding: content/images/9.png (deflated 20%)\n",
            "  adding: content/images/45.png (deflated 23%)\n",
            "  adding: content/images/11.png (deflated 22%)\n",
            "  adding: content/images/0.png (deflated 20%)\n",
            "  adding: content/images/28.png (deflated 21%)\n",
            "  adding: content/images/43.png (deflated 20%)\n",
            "  adding: content/images/12.png (deflated 20%)\n",
            "  adding: content/images/24.png (deflated 20%)\n",
            "  adding: content/images/13.png (deflated 19%)\n",
            "  adding: content/images/5.png (deflated 24%)\n",
            "  adding: content/images/8.png (deflated 24%)\n",
            "  adding: content/images/40.png (deflated 20%)\n",
            "  adding: content/images/7.png (deflated 20%)\n",
            "  adding: content/images/18.png (deflated 20%)\n",
            "  adding: content/images/37.png (deflated 22%)\n",
            "  adding: content/images/21.png (deflated 20%)\n",
            "  adding: content/images/27.png (deflated 19%)\n",
            "  adding: content/images/32.png (deflated 23%)\n",
            "  adding: content/images/46.png (deflated 24%)\n",
            "  adding: content/images/42.png (deflated 20%)\n",
            "  adding: content/images/1.png (deflated 19%)\n",
            "  adding: content/images/39.png (deflated 24%)\n",
            "  adding: content/images/14.png (deflated 19%)\n",
            "  adding: content/images/10.png (deflated 22%)\n",
            "  adding: content/images/6.png (deflated 23%)\n",
            "  adding: content/images/49.png (deflated 20%)\n",
            "  adding: content/images/4.png (deflated 20%)\n",
            "  adding: content/images/2.png (deflated 21%)\n",
            "  adding: content/images/19.png (deflated 21%)\n",
            "  adding: content/images/47.png (deflated 24%)\n",
            "  adding: content/images/48.png (deflated 20%)\n",
            "  adding: content/images/3.png (deflated 19%)\n",
            "  adding: content/images/30.png (deflated 21%)\n",
            "  adding: content/images/31.png (deflated 21%)\n",
            "  adding: content/images/17.png (deflated 22%)\n",
            "  adding: content/images/16.png (deflated 20%)\n",
            "  adding: content/images/25.png (deflated 20%)\n",
            "  adding: content/images/41.png (deflated 19%)\n",
            "  adding: content/images/44.png (deflated 22%)\n",
            "  adding: content/images/26.png (deflated 23%)\n",
            "  adding: content/images/33.png (deflated 21%)\n",
            "  adding: content/images/20.png (deflated 20%)\n",
            "  adding: content/images/15.png (deflated 20%)\n",
            "  adding: content/images/38.png (deflated 20%)\n",
            "  adding: content/images/36.png (deflated 23%)\n",
            "  adding: content/images/29.png (deflated 20%)\n"
          ]
        },
        {
          "output_type": "display_data",
          "data": {
            "application/javascript": [
              "\n",
              "    async function download(id, filename, size) {\n",
              "      if (!google.colab.kernel.accessAllowed) {\n",
              "        return;\n",
              "      }\n",
              "      const div = document.createElement('div');\n",
              "      const label = document.createElement('label');\n",
              "      label.textContent = `Downloading \"${filename}\": `;\n",
              "      div.appendChild(label);\n",
              "      const progress = document.createElement('progress');\n",
              "      progress.max = size;\n",
              "      div.appendChild(progress);\n",
              "      document.body.appendChild(div);\n",
              "\n",
              "      const buffers = [];\n",
              "      let downloaded = 0;\n",
              "\n",
              "      const channel = await google.colab.kernel.comms.open(id);\n",
              "      // Send a message to notify the kernel that we're ready.\n",
              "      channel.send({})\n",
              "\n",
              "      for await (const message of channel.messages) {\n",
              "        // Send a message to notify the kernel that we're ready.\n",
              "        channel.send({})\n",
              "        if (message.buffers) {\n",
              "          for (const buffer of message.buffers) {\n",
              "            buffers.push(buffer);\n",
              "            downloaded += buffer.byteLength;\n",
              "            progress.value = downloaded;\n",
              "          }\n",
              "        }\n",
              "      }\n",
              "      const blob = new Blob(buffers, {type: 'application/binary'});\n",
              "      const a = document.createElement('a');\n",
              "      a.href = window.URL.createObjectURL(blob);\n",
              "      a.download = filename;\n",
              "      div.appendChild(a);\n",
              "      a.click();\n",
              "      div.remove();\n",
              "    }\n",
              "  "
            ],
            "text/plain": [
              "<IPython.core.display.Javascript object>"
            ]
          },
          "metadata": {}
        },
        {
          "output_type": "display_data",
          "data": {
            "application/javascript": [
              "download(\"download_cb06028a-c9e9-446b-946e-cc55b5a90631\", \"nft_images.zip\", 1843788)"
            ],
            "text/plain": [
              "<IPython.core.display.Javascript object>"
            ]
          },
          "metadata": {}
        }
      ]
    },
    {
      "cell_type": "code",
      "source": [
        "##OPTIONAL \n",
        "# Generate Metadata for each Image    \n",
        "\n",
        "f = open('/content/NFT_tutorial_python/metadata/all-traits.json',) \n",
        "data = json.load(f)\n",
        "\n",
        "IMAGES_BASE_URI = \"ADD_IMAGES_BASE_URI_HERE\"\n",
        "PROJECT_NAME = \"ADD_PROJECT_NAME_HERE\"\n",
        "\n",
        "def getAttribute(key, value):\n",
        "    return {\n",
        "        \"trait_type\": key,\n",
        "        \"value\": value\n",
        "    }\n",
        "for i in data:\n",
        "    token_id = i['tokenId']\n",
        "    token = {\n",
        "        \"image\": IMAGES_BASE_URI + str(token_id) + '.png',\n",
        "        \"tokenId\": token_id,\n",
        "        \"name\": PROJECT_NAME + ' ' + str(token_id),\n",
        "        \"attributes\": []\n",
        "    }\n",
        "    token[\"attributes\"].append(getAttribute(\"Background\", i[\"Background\"]))\n",
        "    token[\"attributes\"].append(getAttribute(\"Rice\", i[\"Rice\"]))\n",
        "    token[\"attributes\"].append(getAttribute(\"Topping\", i[\"Topping\"]))\n",
         "    token[\"attributes\"].append(getAttribute(\"Face\", i[\"Face\"]))\n",
        "\n",
        "    with open('/content/drive/MyDrive/nft-image-generator-main/metadata/' + str(token_id), 'w') as outfile:\n",
        "        json.dump(token, outfile, indent=4)\n",
        "f.close()"
      ],
      "metadata": {
        "id": "ov602bi3sAvl"
      },
      "execution_count": null,
      "outputs": []
    },
    {
      "cell_type": "markdown",
      "source": [
        "#Bonus - A Collage Masterpiece"
      ],
      "metadata": {
        "id": "kfQS7sf_O8Sd"
      }
    },
    {
      "cell_type": "code",
      "source": [
        "# Import necessary libraries \n",
        "from PIL import Image\n",
        "import random\n",
        "\n",
        "# Connect to Github repo to load images for the collage\n",
        "!rm -r /content/NFT_tutorial_python\n",
        "!git clone https://github.com/megapixel/NFT_tutorial_python.git\n",
        "\n",
        "# Define the size of the collage\n",
        "collage = Image.new(\"RGBA\", (5000,2500), color=(255,255,255,255))\n",
        "\n",
        "# Declare the number of images and randomly shuffle them in a list \n",
        "max = 50\n",
        "l = list(range(0, max))  \n",
        "random.shuffle(l)\n",
        "\n",
        "# Declare a variable 'C' to access the element in the list \n",
        "c=0\n",
        "\n",
        "# Define a function to create the collage \n",
        "for i in range(0,5000,500):\n",
        "    for j in range(0,2500,500):\n",
        "        file = \"/content/NFT_tutorial_python/sample_output_images/\"+str(l[c])+\".png\"\n",
        "        photo = Image.open(file).convert(\"RGBA\")\n",
        "        photo = photo.resize((500,500))        \n",
        "        \n",
        "        collage.paste(photo, (i,j))\n",
        "        c+=1\n",
        "        \n",
        "# Make a directory to save the collage image \n",
        "collage.save(\"/content/collage.png\")"
      ],
      "metadata": {
        "id": "HXznHJk-O9yg",
        "colab": {
          "base_uri": "https://localhost:8080/"
        },
        "outputId": "69f3fa8f-d23a-479b-979c-4b460674d1c3"
      },
      "execution_count": null,
      "outputs": [
        {
          "output_type": "stream",
          "name": "stdout",
          "text": [
            "Cloning into 'NFT_tutorial_python'...\n",
            "remote: Enumerating objects: 142, done.\u001b[K\n",
            "remote: Counting objects: 100% (142/142), done.\u001b[K\n",
            "remote: Compressing objects: 100% (111/111), done.\u001b[K\n",
            "remote: Total 142 (delta 38), reused 128 (delta 29), pack-reused 0\u001b[K\n",
            "Receiving objects: 100% (142/142), 2.40 MiB | 28.57 MiB/s, done.\n",
            "Resolving deltas: 100% (38/38), done.\n"
          ]
        }
      ]
    }
  ]
}
